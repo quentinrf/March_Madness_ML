{
 "cells": [
  {
   "cell_type": "code",
   "execution_count": 41,
   "metadata": {},
   "outputs": [],
   "source": [
    "import pandas as pd\n",
    "from sklearn.model_selection import train_test_split\n",
    "from sklearn.utils import shuffle\n",
    "from sklearn.preprocessing import StandardScaler\n",
    "from sklearn.decomposition import PCA"
   ]
  },
  {
   "cell_type": "markdown",
   "metadata": {},
   "source": [
    "Load the Dataset, and split into test sets, etc.."
   ]
  },
  {
   "cell_type": "code",
   "execution_count": 42,
   "metadata": {},
   "outputs": [
    {
     "name": "stdout",
     "output_type": "stream",
     "text": [
      "(46522, 150)\n"
     ]
    }
   ],
   "source": [
    "full_dataset = pd.read_csv(\"Relevant_Data/final.csv\")\n",
    "print(full_dataset.shape)"
   ]
  },
  {
   "cell_type": "code",
   "execution_count": 43,
   "metadata": {},
   "outputs": [],
   "source": [
    "full_dataset = full_dataset.drop(['Season','Team0','Team1','Overall SRS 0', 'Overall SRS 1', 'Overall SOS 0', 'Overall SOS 1', 'Conf. W 0', 'Conf. L 0', 'Conf. W 1', 'Conf. L 1'], axis = 1)"
   ]
  },
  {
   "cell_type": "code",
   "execution_count": 44,
   "metadata": {},
   "outputs": [
    {
     "name": "stdout",
     "output_type": "stream",
     "text": [
      "(46522, 139)\n"
     ]
    }
   ],
   "source": [
    "full_dataset = shuffle(full_dataset)\n",
    "print(full_dataset.shape)"
   ]
  },
  {
   "cell_type": "code",
   "execution_count": 45,
   "metadata": {},
   "outputs": [
    {
     "name": "stdout",
     "output_type": "stream",
     "text": [
      "(46522, 138)\n",
      "(46522,)\n",
      "(39522, 138)\n",
      "(7000, 138)\n",
      "(39522,)\n",
      "(7000,)\n"
     ]
    }
   ],
   "source": [
    "X = full_dataset.iloc[:,:-1]\n",
    "Y = full_dataset.iloc[:,-1]\n",
    "print(X.shape)\n",
    "print(Y.shape)\n",
    "X_train = X.iloc[:-7000, :]\n",
    "X_test = X.iloc[-7000:,:]\n",
    "Y_train = Y.iloc[:-7000]\n",
    "Y_test = Y.iloc[-7000:]\n",
    "print(X_train.shape)\n",
    "print(X_test.shape)\n",
    "print(Y_train.shape)\n",
    "print(Y_test.shape)"
   ]
  },
  {
   "cell_type": "code",
   "execution_count": 46,
   "metadata": {},
   "outputs": [
    {
     "name": "stderr",
     "output_type": "stream",
     "text": [
      "c:\\users\\willem atack\\appdata\\local\\programs\\python\\python36\\lib\\site-packages\\sklearn\\preprocessing\\data.py:617: DataConversionWarning: Data with input dtype int64, float64 were all converted to float64 by StandardScaler.\n",
      "  return self.partial_fit(X, y)\n",
      "c:\\users\\willem atack\\appdata\\local\\programs\\python\\python36\\lib\\site-packages\\ipykernel_launcher.py:3: DataConversionWarning: Data with input dtype int64, float64 were all converted to float64 by StandardScaler.\n",
      "  This is separate from the ipykernel package so we can avoid doing imports until\n",
      "c:\\users\\willem atack\\appdata\\local\\programs\\python\\python36\\lib\\site-packages\\ipykernel_launcher.py:4: DataConversionWarning: Data with input dtype int64, float64 were all converted to float64 by StandardScaler.\n",
      "  after removing the cwd from sys.path.\n"
     ]
    }
   ],
   "source": [
    "scaler = StandardScaler()\n",
    "scaler.fit(X_train)\n",
    "X_train = scaler.transform(X_train)\n",
    "X_test = scaler.transform(X_test)\n",
    "X_train = pd.DataFrame(X_train)\n",
    "X_test = pd.DataFrame(X_test)"
   ]
  },
  {
   "cell_type": "code",
   "execution_count": 47,
   "metadata": {
    "scrolled": true
   },
   "outputs": [
    {
     "name": "stdout",
     "output_type": "stream",
     "text": [
      "(39522, 35)\n",
      "(7000, 35)\n"
     ]
    }
   ],
   "source": [
    "pca = PCA(.95)\n",
    "pca.fit(X_train)\n",
    "X_train = pca.transform(X_train)\n",
    "X_test = pca.transform(X_test)\n",
    "print(X_train.shape)\n",
    "print(X_test.shape)"
   ]
  },
  {
   "cell_type": "code",
   "execution_count": 48,
   "metadata": {},
   "outputs": [],
   "source": [
    "Y_train.columns = 'col1'\n",
    "X_train = pd.DataFrame(X_train)\n",
    "X_test = pd.DataFrame(X_test)\n",
    "X_train.to_csv(\"SVMmodel_data/X_train.csv\", index=False)\n",
    "X_test.to_csv(\"SVMmodel_data/X_test.csv\", index=False)\n",
    "Y_train.to_csv(\"SVMmodel_data/Y_train.csv\", index=False)\n",
    "Y_test.to_csv(\"SVMmodel_data/Y_test.csv\",index=False)\n"
   ]
  },
  {
   "cell_type": "code",
   "execution_count": 49,
   "metadata": {},
   "outputs": [
    {
     "name": "stdout",
     "output_type": "stream",
     "text": [
      "(39522,)\n",
      "(7000,)\n",
      "31870    0\n",
      "29297    0\n",
      "12501    1\n",
      "25208    0\n",
      "1403     0\n",
      "25864    0\n",
      "12083    0\n",
      "27341    1\n",
      "42077    0\n",
      "40097    1\n",
      "4117     0\n",
      "25231    0\n",
      "44750    0\n",
      "45461    0\n",
      "41189    0\n",
      "30775    0\n",
      "13662    0\n",
      "12516    1\n",
      "730      1\n",
      "17557    1\n",
      "14940    1\n",
      "37756    1\n",
      "45476    0\n",
      "23428    1\n",
      "32199    0\n",
      "18426    1\n",
      "43649    0\n",
      "67       0\n",
      "44230    0\n",
      "23232    1\n",
      "        ..\n",
      "24492    1\n",
      "12154    0\n",
      "16647    1\n",
      "25308    1\n",
      "24509    1\n",
      "17335    0\n",
      "31693    1\n",
      "12077    1\n",
      "43275    1\n",
      "703      0\n",
      "29827    1\n",
      "20592    1\n",
      "32400    1\n",
      "31817    1\n",
      "42425    0\n",
      "22722    1\n",
      "31699    0\n",
      "34960    0\n",
      "13891    0\n",
      "25489    0\n",
      "13328    1\n",
      "26827    0\n",
      "7935     0\n",
      "37190    1\n",
      "6093     1\n",
      "38000    0\n",
      "4102     0\n",
      "32198    0\n",
      "14582    1\n",
      "37352    0\n",
      "Name: Winner, Length: 39522, dtype: int64\n"
     ]
    }
   ],
   "source": [
    "print(Y_train.shape)\n",
    "print(Y_test.shape)\n",
    "print(Y_train)"
   ]
  },
  {
   "cell_type": "code",
   "execution_count": null,
   "metadata": {},
   "outputs": [],
   "source": []
  }
 ],
 "metadata": {
  "kernelspec": {
   "display_name": "Python 3",
   "language": "python",
   "name": "python3"
  },
  "language_info": {
   "codemirror_mode": {
    "name": "ipython",
    "version": 3
   },
   "file_extension": ".py",
   "mimetype": "text/x-python",
   "name": "python",
   "nbconvert_exporter": "python",
   "pygments_lexer": "ipython3",
   "version": "3.6.6"
  }
 },
 "nbformat": 4,
 "nbformat_minor": 1
}
