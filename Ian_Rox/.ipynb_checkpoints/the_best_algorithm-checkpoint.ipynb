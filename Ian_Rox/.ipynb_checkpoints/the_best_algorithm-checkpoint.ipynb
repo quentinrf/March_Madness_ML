{
 "cells": [
  {
   "cell_type": "code",
   "execution_count": 1,
   "metadata": {},
   "outputs": [],
   "source": [
    "import pandas as pd\n",
    "import numpy as np\n",
    "from sklearn.decomposition import PCA\n",
    "from sklearn.linear_model import LogisticRegression"
   ]
  },
  {
   "cell_type": "code",
   "execution_count": 7,
   "metadata": {},
   "outputs": [],
   "source": [
    "def preprocess(data):\n",
    "    reduced = data.loc[:, np.isin(data.columns, ['Season', 'Team0', 'Team1'], invert=True)]\n",
    "    reduced = reduced.sample(reduced.shape[0], random_state=0).reset_index(drop=True)\n",
    "    nan_cols = list(reduced.isnull().any().index[reduced.isnull().any()])\n",
    "    reduced = reduced.loc[:, np.isin(reduced.columns, nan_cols, invert=True)]\n",
    "\n",
    "    X = reduced.loc[:, reduced.columns != \"Winner\"]\n",
    "    y = reduced.loc[:, \"Winner\"]\n",
    "\n",
    "    X_train = X.loc[0:40000, :] # 80% ish\n",
    "    X_train.shape\n",
    "    X_test = X.loc[40000:, :] # 20% ish\n",
    "    y_train = y[0:40000]\n",
    "    y_test = y[40000:]\n",
    "\n",
    "    stddev = X_train.std()\n",
    "    mean = X_train.mean()\n",
    "    X_train = (X_train - mean)/stddev\n",
    "    X_test = (X_test - mean)/stddev\n",
    "\n",
    "    pca = PCA(0.99)\n",
    "    pca.fit(X_train)\n",
    "    X_train = pd.DataFrame(pca.transform(X_train))\n",
    "    X_test = pd.DataFrame(pca.transform(X_test))\n",
    "\n",
    "#     X_train.to_csv(\"X_train.csv\", index=False)\n",
    "#     X_test.to_csv(\"X_test.csv\", index=False)\n",
    "#     y_train.to_csv(\"y_train.csv\", index=False)\n",
    "#     y_test.to_csv(\"y_test.csv\", index=False)"
   ]
  },
  {
   "cell_type": "code",
   "execution_count": 3,
   "metadata": {},
   "outputs": [],
   "source": [
    "def logistic_regression(X_train, X_test, y_train, y_test):\n",
    "    logr = LogisticRegression(verbose=1)\n",
    "    logr.fit(X_train, y_train)\n",
    "    predictions = logr.predict(X_test)\n",
    "    score = logr.score(X_test, y_test)\n",
    "    print(score)"
   ]
  },
  {
   "cell_type": "code",
   "execution_count": null,
   "metadata": {},
   "outputs": [],
   "source": [
    "data = pd.read_csv(\"../Relevant_Data/final.csv\")\n",
    "preprocess(data)"
   ]
  },
  {
   "cell_type": "code",
   "execution_count": 4,
   "metadata": {},
   "outputs": [],
   "source": [
    "X_train = pd.read_csv(\"X_train.csv\").values\n",
    "X_test = pd.read_csv(\"X_test.csv\").values\n",
    "y_train = pd.read_csv(\"y_train.csv\").values\n",
    "y_test = pd.read_csv(\"y_test.csv\").values\n",
    "\n",
    "# logistic_regression(X_train, X_test, y_train, y_test)"
   ]
  },
  {
   "cell_type": "code",
   "execution_count": 6,
   "metadata": {},
   "outputs": [
    {
     "data": {
      "text/plain": [
       "40001"
      ]
     },
     "execution_count": 6,
     "metadata": {},
     "output_type": "execute_result"
    }
   ],
   "source": [
    "len(X_train)"
   ]
  },
  {
   "cell_type": "code",
   "execution_count": null,
   "metadata": {},
   "outputs": [],
   "source": []
  }
 ],
 "metadata": {
  "kernelspec": {
   "display_name": "Python 3",
   "language": "python",
   "name": "python3"
  },
  "language_info": {
   "codemirror_mode": {
    "name": "ipython",
    "version": 3
   },
   "file_extension": ".py",
   "mimetype": "text/x-python",
   "name": "python",
   "nbconvert_exporter": "python",
   "pygments_lexer": "ipython3",
   "version": "3.6.6"
  }
 },
 "nbformat": 4,
 "nbformat_minor": 1
}
